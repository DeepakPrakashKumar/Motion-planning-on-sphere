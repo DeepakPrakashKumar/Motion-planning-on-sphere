{
 "cells": [
  {
   "cell_type": "markdown",
   "metadata": {},
   "source": [
    "# Generation of numerical results for paper"
   ]
  },
  {
   "cell_type": "markdown",
   "metadata": {},
   "source": [
    "## Optimality of CCpiC\n",
    "We consider all possible final configurations connected by CCpiC paths, and try to obtain a configuration for which the path is optimal."
   ]
  },
  {
   "cell_type": "code",
   "execution_count": 1,
   "metadata": {},
   "outputs": [
    {
     "ename": "Exception",
     "evalue": "('Found example', 0.7, 0.7, ' angles for ', 'rlr', ' with parameters ', [0.6999999999999875, 3.141592653589793, 0.6999999999999978], '. All possible paths are ', ['lgl', 'lgl', 'lrl', 'rlr', 'lrlr', 'lrlr', 'rlrl', 'rlrl', 'lrlrl', 'lrlrl', 'lrlrl'], [[6.7018093967630135, 4.715727489277789, 0.0054763619858211755, 4.715727489281636], [8.518501686902058, 1.5780230575391283, 6.277708945193765, 1.5780230575429746], [6.696377945306087, 1.5760947580794913, 6.279328716661048, 1.5760947580849345], [3.2245307840487425, 0.6999999999999875, 3.141592653589793, 0.6999999999999978], [7.181112983682846, 0.1804493436674215, 3.3111485184429856, 3.3111485184429856, 3.3114972584365323], [7.181084055076341, 0.1804493436674215, 3.3111485184429856, 3.3111485184429856, 3.311456513920329], [7.181112983682846, 3.3114972584365323, 3.3111485184429856, 3.3111485184429856, 0.1804493436674215], [7.181084055076343, 3.311456513920329, 3.3111485184429856, 3.3111485184429856, 0.1804493436674215], [15.61850105852705, 1.577058890896389, 6.281257011009537, 6.281257011009537, 6.281257011009537, 1.5770588909018326], [7.180982503609013, 0.09024568960774282, 3.3111894950057064, 3.3111894950057064, 3.3111894950057064, 0.09024568961318646], [11.702374838504179, 3.242197415810614, 3.3326077502578606, 3.3326077502578606, 3.3326077502578606, 3.2421974158160576]])",
     "output_type": "error",
     "traceback": [
      "\u001b[1;31m---------------------------------------------------------------------------\u001b[0m",
      "\u001b[1;31mException\u001b[0m                                 Traceback (most recent call last)",
      "\u001b[1;32m~\\AppData\\Local\\Temp\\ipykernel_14040\\1440346115.py\u001b[0m in \u001b[0;36m<module>\u001b[1;34m\u001b[0m\n\u001b[0;32m     18\u001b[0m         \u001b[1;32mif\u001b[0m \u001b[0mleast_cost_path\u001b[0m \u001b[1;33m==\u001b[0m \u001b[1;34m'rlr'\u001b[0m\u001b[1;33m:\u001b[0m\u001b[1;33m\u001b[0m\u001b[1;33m\u001b[0m\u001b[0m\n\u001b[0;32m     19\u001b[0m \u001b[1;33m\u001b[0m\u001b[0m\n\u001b[1;32m---> 20\u001b[1;33m             \u001b[1;32mraise\u001b[0m \u001b[0mException\u001b[0m\u001b[1;33m(\u001b[0m\u001b[1;34m'Found example'\u001b[0m\u001b[1;33m,\u001b[0m \u001b[0mphi1\u001b[0m\u001b[1;33m,\u001b[0m \u001b[0mphi3\u001b[0m\u001b[1;33m,\u001b[0m \u001b[1;34m' angles for '\u001b[0m\u001b[1;33m,\u001b[0m \u001b[0mleast_cost_path\u001b[0m\u001b[1;33m,\u001b[0m \u001b[1;34m' with parameters '\u001b[0m\u001b[1;33m,\u001b[0m \u001b[0mleast_cost_path_params\u001b[0m\u001b[1;33m,\u001b[0m \u001b[1;34m'. All possible paths are '\u001b[0m\u001b[1;33m,\u001b[0m \u001b[0mpossible_path_types\u001b[0m\u001b[1;33m,\u001b[0m \u001b[0mpossible_path_params\u001b[0m\u001b[1;33m)\u001b[0m\u001b[1;33m\u001b[0m\u001b[1;33m\u001b[0m\u001b[0m\n\u001b[0m",
      "\u001b[1;31mException\u001b[0m: ('Found example', 0.7, 0.7, ' angles for ', 'rlr', ' with parameters ', [0.6999999999999875, 3.141592653589793, 0.6999999999999978], '. All possible paths are ', ['lgl', 'lgl', 'lrl', 'rlr', 'lrlr', 'lrlr', 'rlrl', 'rlrl', 'lrlrl', 'lrlrl', 'lrlrl'], [[6.7018093967630135, 4.715727489277789, 0.0054763619858211755, 4.715727489281636], [8.518501686902058, 1.5780230575391283, 6.277708945193765, 1.5780230575429746], [6.696377945306087, 1.5760947580794913, 6.279328716661048, 1.5760947580849345], [3.2245307840487425, 0.6999999999999875, 3.141592653589793, 0.6999999999999978], [7.181112983682846, 0.1804493436674215, 3.3111485184429856, 3.3111485184429856, 3.3114972584365323], [7.181084055076341, 0.1804493436674215, 3.3111485184429856, 3.3111485184429856, 3.311456513920329], [7.181112983682846, 3.3114972584365323, 3.3111485184429856, 3.3111485184429856, 0.1804493436674215], [7.181084055076343, 3.311456513920329, 3.3111485184429856, 3.3111485184429856, 0.1804493436674215], [15.61850105852705, 1.577058890896389, 6.281257011009537, 6.281257011009537, 6.281257011009537, 1.5770588909018326], [7.180982503609013, 0.09024568960774282, 3.3111894950057064, 3.3111894950057064, 3.3111894950057064, 0.09024568961318646], [11.702374838504179, 3.242197415810614, 3.3326077502578606, 3.3326077502578606, 3.3326077502578606, 3.2421974158160576]])"
     ]
    }
   ],
   "source": [
    "import numpy as np\n",
    "from Path_generation_sphere import *\n",
    "\n",
    "r_val = 0.71\n",
    "phi1_array = [0.7] # np.linspace(0.1, 2*math.pi, 20, endpoint = False)\n",
    "phi3_array = [0.7] # np.linspace(0.1, 2*math.pi, 20, endpoint = False)\n",
    "\n",
    "# We obtain the final configuration\n",
    "for phi1 in phi1_array:\n",
    "    for phi3 in phi3_array:\n",
    "\n",
    "        fin_config = points_path(np.eye(3), r_val, 1, [phi1, math.pi, phi3], 'rlr')[3]\n",
    "\n",
    "        # We obtain the best possible path\n",
    "        least_cost_path, least_cost_path_length, least_cost_path_params, x_coords_path, y_coords_path,\\\n",
    "             z_coords_path, Tx, Ty, Tz, possible_path_types, possible_path_params = optimal_path_sphere(np.eye(3), fin_config, r_val, 1, visualization = 0)\n",
    "\n",
    "        if least_cost_path == 'rlr':\n",
    "\n",
    "            raise Exception('Found example', phi1, phi3, ' angles for ', least_cost_path, ' with parameters ', least_cost_path_params, '. All possible paths are ', possible_path_types, possible_path_params)"
   ]
  },
  {
   "cell_type": "code",
   "execution_count": 3,
   "metadata": {},
   "outputs": [
    {
     "name": "stdout",
     "output_type": "stream",
     "text": [
      "lgl [6.7018093967630135, 4.715727489277789, 0.0054763619858211755, 4.715727489281636]\n",
      "lgl [8.518501686902058, 1.5780230575391283, 6.277708945193765, 1.5780230575429746]\n",
      "lrl [6.696377945306087, 1.5760947580794913, 6.279328716661048, 1.5760947580849345]\n",
      "rlr [3.2245307840487425, 0.6999999999999875, 3.141592653589793, 0.6999999999999978]\n",
      "lrlr [7.181112983682846, 0.1804493436674215, 3.3111485184429856, 3.3111485184429856, 3.3114972584365323]\n",
      "lrlr [7.181084055076341, 0.1804493436674215, 3.3111485184429856, 3.3111485184429856, 3.311456513920329]\n",
      "rlrl [7.181112983682846, 3.3114972584365323, 3.3111485184429856, 3.3111485184429856, 0.1804493436674215]\n",
      "rlrl [7.181084055076343, 3.311456513920329, 3.3111485184429856, 3.3111485184429856, 0.1804493436674215]\n",
      "lrlrl [15.61850105852705, 1.577058890896389, 6.281257011009537, 6.281257011009537, 6.281257011009537, 1.5770588909018326]\n",
      "lrlrl [7.180982503609013, 0.09024568960774282, 3.3111894950057064, 3.3111894950057064, 3.3111894950057064, 0.09024568961318646]\n",
      "lrlrl [11.702374838504179, 3.242197415810614, 3.3326077502578606, 3.3326077502578606, 3.3326077502578606, 3.2421974158160576]\n"
     ]
    }
   ],
   "source": [
    "for i in range(len(possible_path_types)):\n",
    "    print(possible_path_types[i], possible_path_params[i])"
   ]
  },
  {
   "cell_type": "markdown",
   "metadata": {},
   "source": [
    "# Optimality of CCCC path\n",
    "We consider all possible final configurations connected by CCCC paths, and try to obtain a configuration for which the path is optimal."
   ]
  },
  {
   "cell_type": "code",
   "execution_count": 4,
   "metadata": {},
   "outputs": [
    {
     "ename": "Exception",
     "evalue": "('Found example', 0.55, 0.35, 3.5457519189487723, 0.35, ' angles for ', 'rlrl', ' with parameters ', [0.34999999999996545, 3.545751918948775, 3.545751918948775, 0.34999999999996545], '. All possible paths are ', ['rgl', 'rgl', 'lrl', 'rlr', 'rlrl', 'rlrl'], [[4.7870796116264565, 1.7903778917552329, 2.8176639306956996, 1.7903778917552329], [8.693509952875388, 4.7527168876286385, 3.4655213764838866, 4.7527168876286385], [4.364329339590286, 3.652063868436176, 3.534006093874139, 0.7490742914902042], [4.364329339590286, 0.7490742914902042, 3.534006093874139, 3.652063868436176], [8.937197906283505, 3.809009349533274, 4.315716019815366, 4.315716019815366, 3.809009349533274], [4.285327110843615, 0.34999999999996545, 3.545751918948775, 3.545751918948775, 0.34999999999996545]])",
     "output_type": "error",
     "traceback": [
      "\u001b[1;31m---------------------------------------------------------------------------\u001b[0m",
      "\u001b[1;31mException\u001b[0m                                 Traceback (most recent call last)",
      "\u001b[1;32m~\\AppData\\Local\\Temp\\ipykernel_14040\\1208376260.py\u001b[0m in \u001b[0;36m<module>\u001b[1;34m\u001b[0m\n\u001b[0;32m     21\u001b[0m                 \u001b[1;32mif\u001b[0m \u001b[0mleast_cost_path\u001b[0m \u001b[1;33m==\u001b[0m \u001b[1;34m'rlrl'\u001b[0m\u001b[1;33m:\u001b[0m\u001b[1;33m\u001b[0m\u001b[1;33m\u001b[0m\u001b[0m\n\u001b[0;32m     22\u001b[0m \u001b[1;33m\u001b[0m\u001b[0m\n\u001b[1;32m---> 23\u001b[1;33m                     \u001b[1;32mraise\u001b[0m \u001b[0mException\u001b[0m\u001b[1;33m(\u001b[0m\u001b[1;34m'Found example'\u001b[0m\u001b[1;33m,\u001b[0m \u001b[0mr_val\u001b[0m\u001b[1;33m,\u001b[0m \u001b[0mphi1\u001b[0m\u001b[1;33m,\u001b[0m \u001b[0mphi2\u001b[0m\u001b[1;33m,\u001b[0m \u001b[0mphi3\u001b[0m\u001b[1;33m,\u001b[0m \u001b[1;34m' angles for '\u001b[0m\u001b[1;33m,\u001b[0m \u001b[0mleast_cost_path\u001b[0m\u001b[1;33m,\u001b[0m \u001b[1;34m' with parameters '\u001b[0m\u001b[1;33m,\u001b[0m \u001b[0mleast_cost_path_params\u001b[0m\u001b[1;33m,\u001b[0m \u001b[1;34m'. All possible paths are '\u001b[0m\u001b[1;33m,\u001b[0m \u001b[0mpossible_path_types\u001b[0m\u001b[1;33m,\u001b[0m \u001b[0mpossible_path_params\u001b[0m\u001b[1;33m)\u001b[0m\u001b[1;33m\u001b[0m\u001b[1;33m\u001b[0m\u001b[0m\n\u001b[0m",
      "\u001b[1;31mException\u001b[0m: ('Found example', 0.55, 0.35, 3.5457519189487723, 0.35, ' angles for ', 'rlrl', ' with parameters ', [0.34999999999996545, 3.545751918948775, 3.545751918948775, 0.34999999999996545], '. All possible paths are ', ['rgl', 'rgl', 'lrl', 'rlr', 'rlrl', 'rlrl'], [[4.7870796116264565, 1.7903778917552329, 2.8176639306956996, 1.7903778917552329], [8.693509952875388, 4.7527168876286385, 3.4655213764838866, 4.7527168876286385], [4.364329339590286, 3.652063868436176, 3.534006093874139, 0.7490742914902042], [4.364329339590286, 0.7490742914902042, 3.534006093874139, 3.652063868436176], [8.937197906283505, 3.809009349533274, 4.315716019815366, 4.315716019815366, 3.809009349533274], [4.285327110843615, 0.34999999999996545, 3.545751918948775, 3.545751918948775, 0.34999999999996545]])"
     ]
    }
   ],
   "source": [
    "import numpy as np\n",
    "from Path_generation_sphere import *\n",
    "\n",
    "r_array = [0.55]\n",
    "phi1_array = [0.35]\n",
    "phi2_array = [3.5457519189487723]\n",
    "phi3_array = [0.35]\n",
    "\n",
    "# We obtain the final configuration\n",
    "for r_val in r_array:\n",
    "    for phi1 in phi1_array:\n",
    "        for phi2 in phi2_array:\n",
    "            for phi3 in phi3_array:\n",
    "\n",
    "                fin_config = points_path(np.eye(3), r_val, 1, [phi1, phi2, phi2, phi3], 'rlrl')[3]\n",
    "\n",
    "                # We obtain the best possible path\n",
    "                least_cost_path, least_cost_path_length, least_cost_path_params, x_coords_path, y_coords_path,\\\n",
    "                    z_coords_path, Tx, Ty, Tz, possible_path_types, possible_path_params = optimal_path_sphere(np.eye(3), fin_config, r_val, 1, visualization = 0)\n",
    "\n",
    "                if least_cost_path == 'rlrl':\n",
    "\n",
    "                    raise Exception('Found example', r_val, phi1, phi2, phi3, ' angles for ', least_cost_path, ' with parameters ', least_cost_path_params, '. All possible paths are ', possible_path_types, possible_path_params)"
   ]
  },
  {
   "cell_type": "code",
   "execution_count": 5,
   "metadata": {},
   "outputs": [
    {
     "name": "stdout",
     "output_type": "stream",
     "text": [
      "rgl [4.7870796116264565, 1.7903778917552329, 2.8176639306956996, 1.7903778917552329]\n",
      "rgl [8.693509952875388, 4.7527168876286385, 3.4655213764838866, 4.7527168876286385]\n",
      "lrl [4.364329339590286, 3.652063868436176, 3.534006093874139, 0.7490742914902042]\n",
      "rlr [4.364329339590286, 0.7490742914902042, 3.534006093874139, 3.652063868436176]\n",
      "rlrl [8.937197906283505, 3.809009349533274, 4.315716019815366, 4.315716019815366, 3.809009349533274]\n",
      "rlrl [4.285327110843615, 0.34999999999996545, 3.545751918948775, 3.545751918948775, 0.34999999999996545]\n"
     ]
    }
   ],
   "source": [
    "for i in range(len(possible_path_types)):\n",
    "    print(possible_path_types[i], possible_path_params[i])"
   ]
  },
  {
   "cell_type": "markdown",
   "metadata": {},
   "source": [
    "## Simulation of CCCC path\n",
    "Now, we simulate the motion of the aircraft on the CCCC path."
   ]
  },
  {
   "cell_type": "code",
   "execution_count": null,
   "metadata": {},
   "outputs": [
    {
     "ename": "TypeError",
     "evalue": "plot_trajectory() missing 3 required positional arguments: 'right_turns_pos', 'r', and 'R'",
     "output_type": "error",
     "traceback": [
      "\u001b[1;31m---------------------------------------------------------------------------\u001b[0m",
      "\u001b[1;31mTypeError\u001b[0m                                 Traceback (most recent call last)",
      "\u001b[1;32m~\\AppData\\Local\\Temp\\ipykernel_14040\\3415195006.py\u001b[0m in \u001b[0;36m<module>\u001b[1;34m\u001b[0m\n\u001b[0;32m     39\u001b[0m     \u001b[0mtang_normal_global\u001b[0m\u001b[1;33m[\u001b[0m\u001b[0mi\u001b[0m\u001b[1;33m,\u001b[0m \u001b[1;33m:\u001b[0m\u001b[1;33m]\u001b[0m \u001b[1;33m=\u001b[0m \u001b[0mnp\u001b[0m\u001b[1;33m.\u001b[0m\u001b[0mcross\u001b[0m\u001b[1;33m(\u001b[0m\u001b[0msurf_normal_global\u001b[0m\u001b[1;33m[\u001b[0m\u001b[0mi\u001b[0m\u001b[1;33m]\u001b[0m\u001b[1;33m,\u001b[0m \u001b[0mtang_global\u001b[0m\u001b[1;33m[\u001b[0m\u001b[0mi\u001b[0m\u001b[1;33m]\u001b[0m\u001b[1;33m)\u001b[0m\u001b[1;33m\u001b[0m\u001b[1;33m\u001b[0m\u001b[0m\n\u001b[0;32m     40\u001b[0m \u001b[1;33m\u001b[0m\u001b[0m\n\u001b[1;32m---> 41\u001b[1;33m plot_trajectory(ini_config, fin_config, points_global, tang_global, tang_normal_global, surf_normal_global, 1,\\\n\u001b[0m\u001b[0;32m     42\u001b[0m                  \u001b[0mxgrid_size\u001b[0m \u001b[1;33m=\u001b[0m \u001b[1;33m[\u001b[0m\u001b[1;33m-\u001b[0m\u001b[1;36m1.5\u001b[0m\u001b[1;33m,\u001b[0m \u001b[1;36m1.5\u001b[0m\u001b[1;33m]\u001b[0m\u001b[1;33m,\u001b[0m \u001b[0mygrid_size\u001b[0m \u001b[1;33m=\u001b[0m \u001b[1;33m[\u001b[0m\u001b[1;33m-\u001b[0m\u001b[1;36m1.5\u001b[0m\u001b[1;33m,\u001b[0m \u001b[1;36m1.5\u001b[0m\u001b[1;33m]\u001b[0m\u001b[1;33m,\u001b[0m \u001b[0mzgrid_size\u001b[0m \u001b[1;33m=\u001b[0m \u001b[1;33m[\u001b[0m\u001b[1;33m-\u001b[0m\u001b[1;36m1.5\u001b[0m\u001b[1;33m,\u001b[0m \u001b[1;36m1.5\u001b[0m\u001b[1;33m]\u001b[0m\u001b[1;33m,\u001b[0m \u001b[0mlength_vec_orientation\u001b[0m \u001b[1;33m=\u001b[0m \u001b[1;36m1\u001b[0m\u001b[1;33m,\u001b[0m \u001b[0mscale_aircraft\u001b[0m \u001b[1;33m=\u001b[0m \u001b[1;36m0.2\u001b[0m\u001b[1;33m,\u001b[0m\u001b[0;31m\\\u001b[0m\u001b[1;33m\u001b[0m\u001b[1;33m\u001b[0m\u001b[0m\n\u001b[0;32m     43\u001b[0m                  elev = 30, azim = 45, video_name = False)\n",
      "\u001b[1;31mTypeError\u001b[0m: plot_trajectory() missing 3 required positional arguments: 'right_turns_pos', 'r', and 'R'"
     ]
    }
   ],
   "source": [
    "%matplotlib qt\n",
    "\n",
    "import os\n",
    "import sys\n",
    "from pathlib import Path\n",
    "import numpy as np\n",
    "from Path_generation_sphere import *\n",
    "\n",
    "# We obtain the configuration along the path\n",
    "\n",
    "# Including the following command to ensure that python is able to find the relevant files afer changing directory\n",
    "sys.path.insert(0, '')\n",
    "# Obtaining the current directory\n",
    "cwd = os.getcwd()\n",
    "# current_directory = Path(__file__).parent\n",
    "# path_str = str(current_directory)\n",
    "\n",
    "# Importing code for plotting\n",
    "rel_path = '\\Visualization'\n",
    "os.chdir(cwd + rel_path)\n",
    "from visualization_simulation import plot_trajectory\n",
    "\n",
    "# Returning to initial directory\n",
    "os.chdir(cwd)\n",
    "\n",
    "ini_config = np.eye(3)\n",
    "x, y, z, fin_config, x_circles, y_circles, z_circles, Tx_path, Ty_path, Tz_path = points_path(np.eye(3), 0.6, 1, [0.3, 3.393672286269283, 3.393672286269283, 0.3], 'rlrl')\n",
    "\n",
    "points_global = np.empty((len(x), 3)); tang_global = np.empty((len(x), 3))\n",
    "tang_normal_global = np.empty((len(x), 3)); surf_normal_global = np.empty((len(x), 3))\n",
    "\n",
    "for i in range(len(x)):\n",
    "\n",
    "    points_global[i, 0] = x[i]; points_global[i, 1] = y[i]; points_global[i, 2] = z[i]\n",
    "    tang_global[i, 0] = Tx_path[i]; tang_global[i, 1] = Ty_path[i]; tang_global[i, 2] = Tz_path[i]\n",
    "    surf_normal_global[i, 0] = x[i];\n",
    "    surf_normal_global[i, 1] = y[i];\n",
    "    surf_normal_global[i, 2] = z[i];\n",
    "    tang_normal_global[i, :] = np.cross(surf_normal_global[i], tang_global[i])\n",
    "\n",
    "plot_trajectory(ini_config, fin_config, points_global, tang_global, tang_normal_global, surf_normal_global, [], [], 0.6, 1,\\\n",
    "                 xgrid_size = [-1.5, 1.5], ygrid_size = [-1.5, 1.5], zgrid_size = [-1.5, 1.5], length_vec_orientation = 1, scale_aircraft = 0.2,\\\n",
    "                 elev = 30, azim = 45, video_name = False)\n",
    "# plot_trajectory(ini_config, fin_config, points_global, tang_global, tang_normal_global, surf_normal_global, 1,\\\n",
    "#                  xgrid_size = [-1.5, 1.5], ygrid_size = [-1.5, 1.5], zgrid_size = [-1.5, 1.5], length_vec_orientation = 1, scale_aircraft = 0.2,\\\n",
    "#                  elev = 30, azim = 45, video_name = 'trajectory_rlrl.mp4')\n",
    "\n",
    "print('Done.')"
   ]
  }
 ],
 "metadata": {
  "kernelspec": {
   "display_name": "base",
   "language": "python",
   "name": "python3"
  },
  "language_info": {
   "codemirror_mode": {
    "name": "ipython",
    "version": 3
   },
   "file_extension": ".py",
   "mimetype": "text/x-python",
   "name": "python",
   "nbconvert_exporter": "python",
   "pygments_lexer": "ipython3",
   "version": "3.8.18"
  }
 },
 "nbformat": 4,
 "nbformat_minor": 2
}
