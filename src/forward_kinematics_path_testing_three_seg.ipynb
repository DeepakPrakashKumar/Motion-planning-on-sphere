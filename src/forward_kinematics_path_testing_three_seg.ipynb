{
 "cells": [
  {
   "cell_type": "markdown",
   "metadata": {},
   "source": [
    "# Testing of path construction for three segment paths\n",
    "In this code, we test the construction of each path."
   ]
  },
  {
   "cell_type": "code",
   "execution_count": 10,
   "metadata": {},
   "outputs": [],
   "source": [
    "import math\n",
    "from Path_generation_sphere import *\n",
    "\n",
    "ini_config = np.eye(3)\n",
    "\n",
    "def function_testing_solution(r_array, phi1_array, phi2_array, phi3_array, path_type):\n",
    "\n",
    "    for r in r_array:\n",
    "\n",
    "        print('Considering r value of ', r)\n",
    "        \n",
    "        for phi1 in phi1_array:\n",
    "            for phi2 in phi2_array:\n",
    "                for phi3 in phi3_array:\n",
    "\n",
    "                    # Obtaining the final configuration\n",
    "                    fin_config = points_path(ini_config, r, 1, [phi1, phi2, phi3], path_type)[3]\n",
    "                    \n",
    "                    # print('Final configuration is ', fin_config)\n",
    "\n",
    "                    path_params = path_generation_sphere_three_seg(ini_config, fin_config, r, 1, path_type)\n",
    "\n",
    "                    flag = 0\n",
    "                    # print(path_params)\n",
    "                    for path in path_params:\n",
    "                        \n",
    "                        # If the path type is lgl, rgr, lrl, rlr, we perform a different check if phi2 is zero,\n",
    "                        # and if the path type is lgr or rgl, we perform a different check if phi2 is pi\n",
    "                        if (path_type in ['lgl', 'rgr', 'lrl', 'rlr'] and math.cos(phi2) >= 1 - 10**(-12))\\\n",
    "                              or (path_type in ['lgr', 'rgl'] and math.cos(phi2) <= - 1 + 10**(-12)):\n",
    "\n",
    "                            absdiff = np.mod(abs(path[1] + path[-1] - phi1 - phi3), 2*math.pi)\n",
    "                            if 2*math.pi - absdiff <= 10**(-8): \n",
    "                                max_val = max([0.0, abs(path[2] - phi2)])\n",
    "                            else:\n",
    "                                max_val = max([absdiff, abs(path[2] - phi2)])\n",
    "                        \n",
    "                        else:\n",
    "\n",
    "                            max_val = max([abs(path[1] - phi1), abs(path[2] - phi2), abs(path[-1] - phi3)])\n",
    "                        \n",
    "                        if max_val <= 10**(-4):\n",
    "\n",
    "                            # print('Found correct path for ', phi1, phi2, phi3, ' angles for ', path_type, ' with parameters ', path)\n",
    "                            flag = 1\n",
    "                    \n",
    "                    if flag == 0:\n",
    "                        raise Exception('Found exception case for ', phi1, phi2, phi3, ' angles for ', path_type, ' with parameters ', path)\n",
    "    \n",
    "    print('Passed the tests.')\n",
    "    # return flag"
   ]
  },
  {
   "cell_type": "markdown",
   "metadata": {},
   "source": [
    "## Edge case testing three segment paths\n",
    "### Path wherein the angle of the middle segment is very close to pi"
   ]
  },
  {
   "cell_type": "code",
   "execution_count": 3,
   "metadata": {},
   "outputs": [],
   "source": [
    "path_type = 'lgr'"
   ]
  },
  {
   "cell_type": "code",
   "execution_count": 8,
   "metadata": {},
   "outputs": [
    {
     "name": "stdout",
     "output_type": "stream",
     "text": [
      "Considering r value of  0.3\n",
      "Passed the tests.\n"
     ]
    }
   ],
   "source": [
    "# We provide the parameter range considered\n",
    "import numpy as np\n",
    "\n",
    "r_array = [0.3]\n",
    "phi1_array = [0.1]\n",
    "phi2_array = np.linspace(math.pi - 0.0001, math.pi + 0.0001, 100)\n",
    "phi3_array = [0.2]\n",
    "\n",
    "function_testing_solution(r_array, phi1_array, phi2_array, phi3_array, path_type)"
   ]
  },
  {
   "cell_type": "markdown",
   "metadata": {},
   "source": [
    "### Path wherein the angle of the G segment is nearly zero\n",
    "In this case, the LGL, RGR, LRL, and RLR paths will degenerate to a C path."
   ]
  },
  {
   "cell_type": "code",
   "execution_count": 9,
   "metadata": {},
   "outputs": [
    {
     "name": "stdout",
     "output_type": "stream",
     "text": [
      "Considering r value of  0.3\n",
      "Passed the tests.\n"
     ]
    }
   ],
   "source": [
    "r_array = [0.3]\n",
    "phi1_array = [0.1]\n",
    "phi2_array = np.linspace(0.0, 0.0001, 100) # [1.0101010101010101e-05]\n",
    "phi3_array = [0.2]\n",
    "\n",
    "function_testing_solution(r_array, phi1_array, phi2_array, phi3_array, path_type)"
   ]
  },
  {
   "cell_type": "markdown",
   "metadata": {},
   "source": [
    "## Path, wherein the angle of the first segment is nearly zero"
   ]
  },
  {
   "cell_type": "code",
   "execution_count": 10,
   "metadata": {},
   "outputs": [
    {
     "name": "stdout",
     "output_type": "stream",
     "text": [
      "Considering r value of  0.3\n",
      "Passed the tests.\n"
     ]
    }
   ],
   "source": [
    "r_array = [0.3]\n",
    "phi1_array = np.linspace(0.0, 0.0001, 100)\n",
    "phi2_array = np.linspace(0.0, 0.0001, 100) # [1.0101010101010101e-05]\n",
    "phi3_array = [0.2]\n",
    "\n",
    "function_testing_solution(r_array, phi1_array, phi2_array, phi3_array, path_type)"
   ]
  },
  {
   "cell_type": "markdown",
   "metadata": {},
   "source": [
    "## Path wherein the angle of the final segment is nearly zero"
   ]
  },
  {
   "cell_type": "code",
   "execution_count": 2,
   "metadata": {},
   "outputs": [
    {
     "name": "stdout",
     "output_type": "stream",
     "text": [
      "Considering r value of  0.3\n",
      "Passed the tests.\n"
     ]
    }
   ],
   "source": [
    "r_array = [0.3]\n",
    "phi1_array = [0.1]\n",
    "phi2_array = np.linspace(0.0, 0.0001, 100) # [1.0101010101010101e-05]\n",
    "phi3_array = np.linspace(0.0, 0.0001, 100)\n",
    "\n",
    "function_testing_solution(r_array, phi1_array, phi2_array, phi3_array, path_type)"
   ]
  },
  {
   "cell_type": "markdown",
   "metadata": {},
   "source": [
    "## Path wherein all segment angles are small"
   ]
  },
  {
   "cell_type": "code",
   "execution_count": 3,
   "metadata": {},
   "outputs": [
    {
     "name": "stdout",
     "output_type": "stream",
     "text": [
      "Considering r value of  0.3\n",
      "Passed the tests.\n"
     ]
    }
   ],
   "source": [
    "r_array = [0.3]\n",
    "phi1_array = np.linspace(0.0, 0.001, 20)\n",
    "phi2_array = np.linspace(0.0, 0.001, 20)\n",
    "phi3_array = np.linspace(0.0, 0.001, 20)\n",
    "\n",
    "function_testing_solution(r_array, phi1_array, phi2_array, phi3_array, path_type)"
   ]
  },
  {
   "cell_type": "markdown",
   "metadata": {},
   "source": [
    "## Testing edge cases for three segment path"
   ]
  },
  {
   "cell_type": "code",
   "execution_count": 11,
   "metadata": {},
   "outputs": [
    {
     "name": "stdout",
     "output_type": "stream",
     "text": [
      "Iteration number  0\n",
      "Considering r value of  0.1\n",
      "Considering r value of  0.18888888888888888\n",
      "Considering r value of  0.2777777777777778\n",
      "Considering r value of  0.3666666666666667\n",
      "Considering r value of  0.4555555555555556\n",
      "Considering r value of  0.5444444444444445\n",
      "Considering r value of  0.6333333333333333\n",
      "Considering r value of  0.7222222222222222\n",
      "Considering r value of  0.8111111111111111\n",
      "Considering r value of  0.9\n",
      "Passed the tests.\n",
      "Iteration number  1\n",
      "Considering r value of  0.1\n"
     ]
    },
    {
     "ename": "KeyboardInterrupt",
     "evalue": "",
     "output_type": "error",
     "traceback": [
      "\u001b[1;31m---------------------------------------------------------------------------\u001b[0m",
      "\u001b[1;31mKeyboardInterrupt\u001b[0m                         Traceback (most recent call last)",
      "\u001b[1;32m~\\AppData\\Local\\Temp\\ipykernel_41524\\1794401339.py\u001b[0m in \u001b[0;36m<module>\u001b[1;34m\u001b[0m\n\u001b[0;32m     14\u001b[0m             \u001b[0mprint\u001b[0m\u001b[1;33m(\u001b[0m\u001b[1;34m'Iteration number '\u001b[0m\u001b[1;33m,\u001b[0m \u001b[0mcounter\u001b[0m\u001b[1;33m)\u001b[0m\u001b[1;33m\u001b[0m\u001b[1;33m\u001b[0m\u001b[0m\n\u001b[0;32m     15\u001b[0m             \u001b[0mcounter\u001b[0m \u001b[1;33m+=\u001b[0m \u001b[1;36m1\u001b[0m\u001b[1;33m\u001b[0m\u001b[1;33m\u001b[0m\u001b[0m\n\u001b[1;32m---> 16\u001b[1;33m             \u001b[0mfunction_testing_solution\u001b[0m\u001b[1;33m(\u001b[0m\u001b[0mr_array\u001b[0m\u001b[1;33m,\u001b[0m \u001b[0mphi1_arrays\u001b[0m\u001b[1;33m[\u001b[0m\u001b[0mi\u001b[0m\u001b[1;33m]\u001b[0m\u001b[1;33m,\u001b[0m \u001b[0mphi2_arrays\u001b[0m\u001b[1;33m[\u001b[0m\u001b[0mj\u001b[0m\u001b[1;33m]\u001b[0m\u001b[1;33m,\u001b[0m \u001b[0mphi3_arrays\u001b[0m\u001b[1;33m[\u001b[0m\u001b[0mk\u001b[0m\u001b[1;33m]\u001b[0m\u001b[1;33m,\u001b[0m \u001b[0mpath_type\u001b[0m\u001b[1;33m)\u001b[0m\u001b[1;33m\u001b[0m\u001b[1;33m\u001b[0m\u001b[0m\n\u001b[0m",
      "\u001b[1;32m~\\AppData\\Local\\Temp\\ipykernel_41524\\1908988250.py\u001b[0m in \u001b[0;36mfunction_testing_solution\u001b[1;34m(r_array, phi1_array, phi2_array, phi3_array, path_type)\u001b[0m\n\u001b[0;32m     19\u001b[0m                     \u001b[1;31m# print('Final configuration is ', fin_config)\u001b[0m\u001b[1;33m\u001b[0m\u001b[1;33m\u001b[0m\u001b[1;33m\u001b[0m\u001b[0m\n\u001b[0;32m     20\u001b[0m \u001b[1;33m\u001b[0m\u001b[0m\n\u001b[1;32m---> 21\u001b[1;33m                     \u001b[0mpath_params\u001b[0m \u001b[1;33m=\u001b[0m \u001b[0mpath_generation_sphere_three_seg\u001b[0m\u001b[1;33m(\u001b[0m\u001b[0mini_config\u001b[0m\u001b[1;33m,\u001b[0m \u001b[0mfin_config\u001b[0m\u001b[1;33m,\u001b[0m \u001b[0mr\u001b[0m\u001b[1;33m,\u001b[0m \u001b[1;36m1\u001b[0m\u001b[1;33m,\u001b[0m \u001b[0mpath_type\u001b[0m\u001b[1;33m)\u001b[0m\u001b[1;33m\u001b[0m\u001b[1;33m\u001b[0m\u001b[0m\n\u001b[0m\u001b[0;32m     22\u001b[0m \u001b[1;33m\u001b[0m\u001b[0m\n\u001b[0;32m     23\u001b[0m                     \u001b[0mflag\u001b[0m \u001b[1;33m=\u001b[0m \u001b[1;36m0\u001b[0m\u001b[1;33m\u001b[0m\u001b[1;33m\u001b[0m\u001b[0m\n",
      "\u001b[1;32md:\\TAMU\\Research\\Motion-planning-on-sphere\\src\\Path_generation_sphere.py\u001b[0m in \u001b[0;36mpath_generation_sphere_three_seg\u001b[1;34m(ini_config, fin_config, r, R, path_type, tol_path)\u001b[0m\n\u001b[0;32m    669\u001b[0m                         \u001b[1;31m# Obtaining the final configuration of the path\u001b[0m\u001b[1;33m\u001b[0m\u001b[1;33m\u001b[0m\u001b[1;33m\u001b[0m\u001b[0m\n\u001b[0;32m    670\u001b[0m                         \u001b[0mfin_config_path\u001b[0m \u001b[1;33m=\u001b[0m\u001b[0;31m\\\u001b[0m\u001b[1;33m\u001b[0m\u001b[1;33m\u001b[0m\u001b[0m\n\u001b[1;32m--> 671\u001b[1;33m                             \u001b[0mpoints_path\u001b[0m\u001b[1;33m(\u001b[0m\u001b[0mnp\u001b[0m\u001b[1;33m.\u001b[0m\u001b[0midentity\u001b[0m\u001b[1;33m(\u001b[0m\u001b[1;36m3\u001b[0m\u001b[1;33m)\u001b[0m\u001b[1;33m,\u001b[0m \u001b[0mr_mod\u001b[0m\u001b[1;33m,\u001b[0m \u001b[1;36m1\u001b[0m\u001b[1;33m,\u001b[0m \u001b[1;33m[\u001b[0m\u001b[0mphi1\u001b[0m\u001b[1;33m,\u001b[0m \u001b[0mphi2\u001b[0m\u001b[1;33m,\u001b[0m \u001b[0mphi3\u001b[0m\u001b[1;33m]\u001b[0m\u001b[1;33m,\u001b[0m \u001b[0mpath_type\u001b[0m\u001b[1;33m)\u001b[0m\u001b[1;33m[\u001b[0m\u001b[1;36m3\u001b[0m\u001b[1;33m]\u001b[0m\u001b[1;33m\u001b[0m\u001b[1;33m\u001b[0m\u001b[0m\n\u001b[0m\u001b[0;32m    672\u001b[0m \u001b[1;33m\u001b[0m\u001b[0m\n\u001b[0;32m    673\u001b[0m                         \u001b[1;31m# print(fin_config_path)\u001b[0m\u001b[1;33m\u001b[0m\u001b[1;33m\u001b[0m\u001b[1;33m\u001b[0m\u001b[0m\n",
      "\u001b[1;32md:\\TAMU\\Research\\Motion-planning-on-sphere\\src\\Path_generation_sphere.py\u001b[0m in \u001b[0;36mpoints_path\u001b[1;34m(ini_config, r, R, angle_segments, path_type)\u001b[0m\n\u001b[0;32m    203\u001b[0m         \u001b[0mpoints_path_seg\u001b[0m\u001b[1;33m,\u001b[0m \u001b[0mtang_path_seg\u001b[0m \u001b[1;33m=\u001b[0m \u001b[0mSeg_pts\u001b[0m\u001b[1;33m(\u001b[0m\u001b[0mini_config_seg\u001b[0m\u001b[1;33m,\u001b[0m \u001b[0mangle_segments\u001b[0m\u001b[1;33m[\u001b[0m\u001b[0mi\u001b[0m\u001b[1;33m]\u001b[0m\u001b[1;33m,\u001b[0m \u001b[0mr\u001b[0m\u001b[1;33m,\u001b[0m \u001b[0mR\u001b[0m\u001b[1;33m,\u001b[0m \u001b[0mpath_type\u001b[0m\u001b[1;33m[\u001b[0m\u001b[0mi\u001b[0m\u001b[1;33m]\u001b[0m\u001b[1;33m)\u001b[0m\u001b[1;33m\u001b[0m\u001b[1;33m\u001b[0m\u001b[0m\n\u001b[0;32m    204\u001b[0m         \u001b[1;31m# Appending the obtained points to the arrays\u001b[0m\u001b[1;33m\u001b[0m\u001b[1;33m\u001b[0m\u001b[1;33m\u001b[0m\u001b[0m\n\u001b[1;32m--> 205\u001b[1;33m         \u001b[0mx_coords_path\u001b[0m \u001b[1;33m=\u001b[0m \u001b[0mnp\u001b[0m\u001b[1;33m.\u001b[0m\u001b[0mappend\u001b[0m\u001b[1;33m(\u001b[0m\u001b[0mx_coords_path\u001b[0m\u001b[1;33m,\u001b[0m \u001b[0mpoints_path_seg\u001b[0m\u001b[1;33m[\u001b[0m\u001b[1;33m:\u001b[0m\u001b[1;33m,\u001b[0m \u001b[1;36m0\u001b[0m\u001b[1;33m]\u001b[0m\u001b[1;33m)\u001b[0m\u001b[1;33m\u001b[0m\u001b[1;33m\u001b[0m\u001b[0m\n\u001b[0m\u001b[0;32m    206\u001b[0m         \u001b[0my_coords_path\u001b[0m \u001b[1;33m=\u001b[0m \u001b[0mnp\u001b[0m\u001b[1;33m.\u001b[0m\u001b[0mappend\u001b[0m\u001b[1;33m(\u001b[0m\u001b[0my_coords_path\u001b[0m\u001b[1;33m,\u001b[0m \u001b[0mpoints_path_seg\u001b[0m\u001b[1;33m[\u001b[0m\u001b[1;33m:\u001b[0m\u001b[1;33m,\u001b[0m \u001b[1;36m1\u001b[0m\u001b[1;33m]\u001b[0m\u001b[1;33m)\u001b[0m\u001b[1;33m\u001b[0m\u001b[1;33m\u001b[0m\u001b[0m\n\u001b[0;32m    207\u001b[0m         \u001b[0mz_coords_path\u001b[0m \u001b[1;33m=\u001b[0m \u001b[0mnp\u001b[0m\u001b[1;33m.\u001b[0m\u001b[0mappend\u001b[0m\u001b[1;33m(\u001b[0m\u001b[0mz_coords_path\u001b[0m\u001b[1;33m,\u001b[0m \u001b[0mpoints_path_seg\u001b[0m\u001b[1;33m[\u001b[0m\u001b[1;33m:\u001b[0m\u001b[1;33m,\u001b[0m \u001b[1;36m2\u001b[0m\u001b[1;33m]\u001b[0m\u001b[1;33m)\u001b[0m\u001b[1;33m\u001b[0m\u001b[1;33m\u001b[0m\u001b[0m\n",
      "\u001b[1;32mc:\\Users\\deepa\\anaconda3\\lib\\site-packages\\numpy\\core\\overrides.py\u001b[0m in \u001b[0;36mappend\u001b[1;34m(*args, **kwargs)\u001b[0m\n",
      "\u001b[1;32mc:\\Users\\deepa\\anaconda3\\lib\\site-packages\\numpy\\lib\\function_base.py\u001b[0m in \u001b[0;36mappend\u001b[1;34m(arr, values, axis)\u001b[0m\n\u001b[0;32m   5497\u001b[0m         \u001b[0mvalues\u001b[0m \u001b[1;33m=\u001b[0m \u001b[0mravel\u001b[0m\u001b[1;33m(\u001b[0m\u001b[0mvalues\u001b[0m\u001b[1;33m)\u001b[0m\u001b[1;33m\u001b[0m\u001b[1;33m\u001b[0m\u001b[0m\n\u001b[0;32m   5498\u001b[0m         \u001b[0maxis\u001b[0m \u001b[1;33m=\u001b[0m \u001b[0marr\u001b[0m\u001b[1;33m.\u001b[0m\u001b[0mndim\u001b[0m\u001b[1;33m-\u001b[0m\u001b[1;36m1\u001b[0m\u001b[1;33m\u001b[0m\u001b[1;33m\u001b[0m\u001b[0m\n\u001b[1;32m-> 5499\u001b[1;33m     \u001b[1;32mreturn\u001b[0m \u001b[0mconcatenate\u001b[0m\u001b[1;33m(\u001b[0m\u001b[1;33m(\u001b[0m\u001b[0marr\u001b[0m\u001b[1;33m,\u001b[0m \u001b[0mvalues\u001b[0m\u001b[1;33m)\u001b[0m\u001b[1;33m,\u001b[0m \u001b[0maxis\u001b[0m\u001b[1;33m=\u001b[0m\u001b[0maxis\u001b[0m\u001b[1;33m)\u001b[0m\u001b[1;33m\u001b[0m\u001b[1;33m\u001b[0m\u001b[0m\n\u001b[0m\u001b[0;32m   5500\u001b[0m \u001b[1;33m\u001b[0m\u001b[0m\n\u001b[0;32m   5501\u001b[0m \u001b[1;33m\u001b[0m\u001b[0m\n",
      "\u001b[1;32mc:\\Users\\deepa\\anaconda3\\lib\\site-packages\\numpy\\core\\overrides.py\u001b[0m in \u001b[0;36mconcatenate\u001b[1;34m(*args, **kwargs)\u001b[0m\n",
      "\u001b[1;31mKeyboardInterrupt\u001b[0m: "
     ]
    }
   ],
   "source": [
    "r_array = [0.1]\n",
    "phi1_arrays = [np.linspace(0.0, 0.001, 20), np.linspace(math.pi - 0.0001, math.pi + 0.0001, 20), np.linspace(2*math.pi - 0.001, 2*math.pi, 20, endpoint=False)]\n",
    "phi2_arrays = [np.linspace(0.0, 0.001, 20), np.linspace(math.pi - 0.0001, math.pi + 0.0001, 20), np.linspace(2*math.pi - 0.001, 2*math.pi, 20, endpoint=False)]\n",
    "phi3_arrays = [np.linspace(0.0, 0.001, 20), np.linspace(math.pi - 0.0001, math.pi + 0.0001, 20), np.linspace(2*math.pi - 0.001, 2*math.pi, 20, endpoint=False)]\n",
    "# phi1_arrays = [np.linspace(2*math.pi - 0.001, 2*math.pi, 20, endpoint=False)]\n",
    "# phi2_arrays = [np.linspace(2*math.pi - 0.001, 2*math.pi, 20, endpoint=False)]\n",
    "# phi3_arrays = [np.linspace(2*math.pi - 0.001, 2*math.pi, 20, endpoint=False)]\n",
    "\n",
    "counter = 0\n",
    "for i in range(len(phi1_arrays)):\n",
    "    for j in range(len(phi2_arrays)):\n",
    "        for k in range(len(phi3_arrays)):\n",
    "\n",
    "            print('Iteration number ', counter)\n",
    "            counter += 1\n",
    "            function_testing_solution(r_array, phi1_arrays[i], phi2_arrays[j], phi3_arrays[k], path_type)"
   ]
  },
  {
   "cell_type": "markdown",
   "metadata": {},
   "source": [
    "## Final sweep test across radius and angles\n",
    "We perform a final test sweeping across the considered radius values and angles."
   ]
  },
  {
   "cell_type": "code",
   "execution_count": 11,
   "metadata": {},
   "outputs": [
    {
     "name": "stdout",
     "output_type": "stream",
     "text": [
      "Considering r value of  0.1\n",
      "Considering r value of  0.18888888888888888\n",
      "Considering r value of  0.2777777777777778\n",
      "Considering r value of  0.3666666666666667\n",
      "Considering r value of  0.4555555555555556\n",
      "Considering r value of  0.5444444444444445\n",
      "Considering r value of  0.6333333333333333\n",
      "Considering r value of  0.7222222222222222\n",
      "Considering r value of  0.8111111111111111\n",
      "Considering r value of  0.9\n",
      "Passed the tests.\n"
     ]
    }
   ],
   "source": [
    "r_array = np.linspace(0.1, 0.9, 10)\n",
    "phi1_array = np.linspace(0.0, 2*math.pi, 20, endpoint = False)\n",
    "phi2_array = np.linspace(0.0, 2*math.pi, 20, endpoint = False)\n",
    "phi3_array = np.linspace(0.0, 2*math.pi, 20, endpoint = False)\n",
    "\n",
    "function_testing_solution(r_array, phi1_array, phi2_array, phi3_array, path_type)"
   ]
  }
 ],
 "metadata": {
  "kernelspec": {
   "display_name": "base",
   "language": "python",
   "name": "python3"
  },
  "language_info": {
   "codemirror_mode": {
    "name": "ipython",
    "version": 3
   },
   "file_extension": ".py",
   "mimetype": "text/x-python",
   "name": "python",
   "nbconvert_exporter": "python",
   "pygments_lexer": "ipython3",
   "version": "3.8.18"
  }
 },
 "nbformat": 4,
 "nbformat_minor": 2
}
